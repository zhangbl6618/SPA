{
 "cells": [
  {
   "cell_type": "markdown",
   "metadata": {},
   "source": [
    "# Introduction\n",
    "\n",
    "随着工业4.0的快速发展，每天都有大量的数据产生于边缘设备如IoT设备、智能手机等。这些数据可以用于训练一个人工智能模型如输入法预测来提高用户的体验。不过，这些数据一般都涉及用户的个人隐私，所以不能按传统的集中式训练方法将每个边缘设备的数据集中到一起训练。这就造成了数据孤岛的问题，联邦学习为解决这个问题提供了可行的方案。联邦学习允许每个边缘设备上的数据不离开设备并且可以共同训练一个人工智能模型。\n",
    "\n",
    "> With the rapid development of Industry 4.0, a large amount of data is generated every day from edge devices such as IoT devices and smart phones. These data can be used to train an artificial intelligence model such as input method prediction to improve the user experience. However, these data generally involve the user's personal privacy, so the data of each edge device cannot be collected and trained together according to the traditional centralized training method. This has caused the problem of data islands, and federated learning provides a feasible solution to this problem. Federated learning allows the data on each edge device not to leave the device and can jointly train an artificial intelligence model.\n",
    "\n",
    "在联邦学习的设置中，有两种角色分别为服务端和客户端，客户端就是参与训练的每个边缘设备如IoT设备、智能手机等。使用联邦学习的方法训练一个人工智能模型的一般流程如下。首先，服务端从所有的客户端中选择一部分客户端并且将当前全局模型发送给它们。第二，被选择的客户端当接收到的全局模型作为本地初始模型并且利用本地数据迭代训练得到一个新的本地模型。第三，客户端将新的本地模型减去接收到的全局模型得到的更新发送给服务端。第四，服务端将接收到的所有更新以特定的聚合算法（如FedAvg）聚合得到一个新的更新然后更新全局模型。这四个步骤为联邦学习中的一个轮次，一直迭代到全局模型收敛为止。\n",
    "\n",
    "> In the setting of federated learning, there are two roles: the server and the client. The client is each edge device participating in the training, such as IoT devices and smartphones. The general process of training an artificial intelligence model using the federated learning method is as follows. First, the server selects some clients from all clients and sends the current global model to them. Second, the selected client receives the global model as the local initial model and uses the local data to iteratively train to obtain a new local model. Third, the client sends the update obtained by subtracting the received global model from the new local model to the server. Fourth, the server aggregates all received updates with a specific aggregation algorithm (such as FedAvg) to obtain a new update and then updates the global model. These four steps are a round of federated learning, and iterate until the global model converges.\n",
    "\n",
    "在上述的一个轮次中，仍然存在两种安全威胁。第一，即使客户端只分享了更新而不是本地的原始数据，但是有研究表明仍然可以从更新中恢复出原始数据或者某些隐私属性。这个威胁直接击败了联邦学习的初衷，会导致联邦学习无法应用于工业场景中。第二，由于边缘设备的安全性较低，攻击者可以控制边缘设备修改本地原始数据和训练过程或者修改要发给服务端的更新。并且服务端也缺少验证客户端行为的机制，从而导致更新后的全局模型带有攻击者注入的后门。如果没有相应防御机制的联邦学习应用到工业场景中，训练出来的模型将会被攻击者利用，从而给模型持有方造成不可估量的损失。\n",
    "\n",
    "> In the above round, there are still two security threats. First, even if the client only shares the update instead of the local original data, some studies have shown that the original data or some privacy attributes can still be recovered from the update. This threat directly defeats the original intention of federated learning and will make federated learning unable to be applied in industrial scenarios. Second, because the security of the edge device is low, an attacker can control the edge device to modify the local original data and training process or modify the update to be sent to the server. In addition, the server also lacks a mechanism to verify the behavior of the client, resulting in the updated global model with a backdoor injected by the attacker. If federated learning without corresponding defense mechanisms is applied to industrial scenarios, the trained model will be used by attackers, causing immeasurable losses to the model holder."
   ]
  },
  {
   "cell_type": "code",
   "execution_count": null,
   "metadata": {},
   "outputs": [],
   "source": []
  }
 ],
 "metadata": {
  "kernelspec": {
   "display_name": "Python 3",
   "language": "python",
   "name": "python3"
  },
  "language_info": {
   "codemirror_mode": {
    "name": "ipython",
    "version": 3
   },
   "file_extension": ".py",
   "mimetype": "text/x-python",
   "name": "python",
   "nbconvert_exporter": "python",
   "pygments_lexer": "ipython3",
   "version": "3.8.3"
  },
  "toc": {
   "base_numbering": 1,
   "nav_menu": {},
   "number_sections": true,
   "sideBar": true,
   "skip_h1_title": false,
   "title_cell": "Table of Contents",
   "title_sidebar": "Contents",
   "toc_cell": false,
   "toc_position": {},
   "toc_section_display": true,
   "toc_window_display": false
  }
 },
 "nbformat": 4,
 "nbformat_minor": 4
}
